{
  "nbformat": 4,
  "nbformat_minor": 0,
  "metadata": {
    "colab": {
      "name": "Untitled23.ipynb",
      "provenance": []
    },
    "kernelspec": {
      "name": "python3",
      "display_name": "Python 3"
    }
  },
  "cells": [
    {
      "cell_type": "code",
      "metadata": {
        "colab": {
          "base_uri": "https://localhost:8080/"
        },
        "id": "yCZ0Sg1AhQ42",
        "outputId": "e19afee2-af22-4fef-c9ed-be406945e2b8"
      },
      "source": [
        "from google.colab import drive\r\n",
        "drive.mount(\"/content/drive\")"
      ],
      "execution_count": 72,
      "outputs": [
        {
          "output_type": "stream",
          "text": [
            "Drive already mounted at /content/drive; to attempt to forcibly remount, call drive.mount(\"/content/drive\", force_remount=True).\n"
          ],
          "name": "stdout"
        }
      ]
    },
    {
      "cell_type": "code",
      "metadata": {
        "id": "DxO5gmiDiTb5"
      },
      "source": [
        "import pandas as pd\r\n",
        "import numpy as np\r\n",
        "import matplotlib.pyplot as plt\r\n",
        "import seaborn as sns\r\n",
        "from sklearn.model_selection import train_test_split\r\n",
        "from sklearn.preprocessing import LabelEncoder\r\n",
        "from sklearn.preprocessing import Binarizer"
      ],
      "execution_count": 73,
      "outputs": []
    },
    {
      "cell_type": "code",
      "metadata": {
        "id": "iU2wJ-FEi62T"
      },
      "source": [
        "data=pd.read_csv(\"/content/drive/MyDrive/Copy of Insurance Dataset.csv\")"
      ],
      "execution_count": 74,
      "outputs": []
    },
    {
      "cell_type": "code",
      "metadata": {
        "id": "IAz7JgZjja0E"
      },
      "source": [
        "data.columns=data.columns.str.replace(' ','_')"
      ],
      "execution_count": 75,
      "outputs": []
    },
    {
      "cell_type": "code",
      "metadata": {
        "id": "4OzXP_l3jrck"
      },
      "source": [
        "data.drop_duplicates(inplace=True)"
      ],
      "execution_count": 76,
      "outputs": []
    },
    {
      "cell_type": "code",
      "metadata": {
        "id": "NcYb5mFkj5Ou"
      },
      "source": [
        "data.dropna(inplace=True)"
      ],
      "execution_count": 77,
      "outputs": []
    },
    {
      "cell_type": "code",
      "metadata": {
        "id": "2gPVHShIj-L2",
        "colab": {
          "base_uri": "https://localhost:8080/",
          "height": 626
        },
        "outputId": "f50082da-9271-4be7-c11a-2d4ca2a15bd7"
      },
      "source": [
        "data"
      ],
      "execution_count": 78,
      "outputs": [
        {
          "output_type": "execute_result",
          "data": {
            "text/html": [
              "<div>\n",
              "<style scoped>\n",
              "    .dataframe tbody tr th:only-of-type {\n",
              "        vertical-align: middle;\n",
              "    }\n",
              "\n",
              "    .dataframe tbody tr th {\n",
              "        vertical-align: top;\n",
              "    }\n",
              "\n",
              "    .dataframe thead th {\n",
              "        text-align: right;\n",
              "    }\n",
              "</style>\n",
              "<table border=\"1\" class=\"dataframe\">\n",
              "  <thead>\n",
              "    <tr style=\"text-align: right;\">\n",
              "      <th></th>\n",
              "      <th>Area_Service</th>\n",
              "      <th>Hospital_County</th>\n",
              "      <th>Hospital_Id</th>\n",
              "      <th>Age</th>\n",
              "      <th>Gender</th>\n",
              "      <th>Cultural_group</th>\n",
              "      <th>ethnicity</th>\n",
              "      <th>Days_spend_hsptl</th>\n",
              "      <th>Admission_type</th>\n",
              "      <th>Home_or_self_care,</th>\n",
              "      <th>ccs_diagnosis_code</th>\n",
              "      <th>ccs_procedure_code</th>\n",
              "      <th>apr_drg_description</th>\n",
              "      <th>Code_illness</th>\n",
              "      <th>Mortality_risk</th>\n",
              "      <th>Surg_Description</th>\n",
              "      <th>Weight_baby</th>\n",
              "      <th>Abortion</th>\n",
              "      <th>Emergency_dept_yes/No</th>\n",
              "      <th>Tot_charg</th>\n",
              "      <th>Tot_cost</th>\n",
              "      <th>ratio_of_total_costs_to_total_charges</th>\n",
              "      <th>Result</th>\n",
              "      <th>Payment_Typology</th>\n",
              "    </tr>\n",
              "  </thead>\n",
              "  <tbody>\n",
              "    <tr>\n",
              "      <th>0</th>\n",
              "      <td>Western NY</td>\n",
              "      <td>Allegany</td>\n",
              "      <td>37.0</td>\n",
              "      <td>30 to 49</td>\n",
              "      <td>F</td>\n",
              "      <td>White</td>\n",
              "      <td>Not Span/Hispanic</td>\n",
              "      <td>4</td>\n",
              "      <td>Elective</td>\n",
              "      <td>Home or Self Care</td>\n",
              "      <td>122</td>\n",
              "      <td>0</td>\n",
              "      <td>Other pneumonia</td>\n",
              "      <td>1</td>\n",
              "      <td>1.0</td>\n",
              "      <td>Medical</td>\n",
              "      <td>0</td>\n",
              "      <td>N</td>\n",
              "      <td>Y</td>\n",
              "      <td>5511.95</td>\n",
              "      <td>5582.49</td>\n",
              "      <td>1.012798</td>\n",
              "      <td>1</td>\n",
              "      <td>1</td>\n",
              "    </tr>\n",
              "    <tr>\n",
              "      <th>1</th>\n",
              "      <td>Western NY</td>\n",
              "      <td>Allegany</td>\n",
              "      <td>37.0</td>\n",
              "      <td>70 or Older</td>\n",
              "      <td>F</td>\n",
              "      <td>White</td>\n",
              "      <td>Not Span/Hispanic</td>\n",
              "      <td>4</td>\n",
              "      <td>Urgent</td>\n",
              "      <td>Short-term Hospital</td>\n",
              "      <td>197</td>\n",
              "      <td>0</td>\n",
              "      <td>Cellulitis &amp; other skin infections</td>\n",
              "      <td>3</td>\n",
              "      <td>2.0</td>\n",
              "      <td>Medical</td>\n",
              "      <td>0</td>\n",
              "      <td>N</td>\n",
              "      <td>Y</td>\n",
              "      <td>4783.20</td>\n",
              "      <td>5162.82</td>\n",
              "      <td>1.079365</td>\n",
              "      <td>1</td>\n",
              "      <td>1</td>\n",
              "    </tr>\n",
              "    <tr>\n",
              "      <th>2</th>\n",
              "      <td>Western NY</td>\n",
              "      <td>Allegany</td>\n",
              "      <td>37.0</td>\n",
              "      <td>30 to 49</td>\n",
              "      <td>F</td>\n",
              "      <td>White</td>\n",
              "      <td>Not Span/Hispanic</td>\n",
              "      <td>3</td>\n",
              "      <td>Urgent</td>\n",
              "      <td>Home or Self Care</td>\n",
              "      <td>122</td>\n",
              "      <td>0</td>\n",
              "      <td>Other pneumonia</td>\n",
              "      <td>1</td>\n",
              "      <td>1.0</td>\n",
              "      <td>Medical</td>\n",
              "      <td>0</td>\n",
              "      <td>N</td>\n",
              "      <td>Y</td>\n",
              "      <td>3829.15</td>\n",
              "      <td>4056.52</td>\n",
              "      <td>1.059379</td>\n",
              "      <td>1</td>\n",
              "      <td>1</td>\n",
              "    </tr>\n",
              "    <tr>\n",
              "      <th>3</th>\n",
              "      <td>Western NY</td>\n",
              "      <td>Allegany</td>\n",
              "      <td>37.0</td>\n",
              "      <td>0 to 17</td>\n",
              "      <td>F</td>\n",
              "      <td>White</td>\n",
              "      <td>Not Span/Hispanic</td>\n",
              "      <td>1</td>\n",
              "      <td>Urgent</td>\n",
              "      <td>Home or Self Care</td>\n",
              "      <td>122</td>\n",
              "      <td>0</td>\n",
              "      <td>Other pneumonia</td>\n",
              "      <td>1</td>\n",
              "      <td>1.0</td>\n",
              "      <td>Medical</td>\n",
              "      <td>0</td>\n",
              "      <td>N</td>\n",
              "      <td>Y</td>\n",
              "      <td>1108.20</td>\n",
              "      <td>1644.75</td>\n",
              "      <td>1.484167</td>\n",
              "      <td>0</td>\n",
              "      <td>1</td>\n",
              "    </tr>\n",
              "    <tr>\n",
              "      <th>4</th>\n",
              "      <td>Western NY</td>\n",
              "      <td>Allegany</td>\n",
              "      <td>37.0</td>\n",
              "      <td>70 or Older</td>\n",
              "      <td>F</td>\n",
              "      <td>White</td>\n",
              "      <td>Not Span/Hispanic</td>\n",
              "      <td>3</td>\n",
              "      <td>Elective</td>\n",
              "      <td>Home or Self Care</td>\n",
              "      <td>122</td>\n",
              "      <td>0</td>\n",
              "      <td>Other pneumonia</td>\n",
              "      <td>2</td>\n",
              "      <td>3.0</td>\n",
              "      <td>Medical</td>\n",
              "      <td>0</td>\n",
              "      <td>N</td>\n",
              "      <td>Y</td>\n",
              "      <td>3418.18</td>\n",
              "      <td>3370.87</td>\n",
              "      <td>0.986161</td>\n",
              "      <td>1</td>\n",
              "      <td>1</td>\n",
              "    </tr>\n",
              "    <tr>\n",
              "      <th>...</th>\n",
              "      <td>...</td>\n",
              "      <td>...</td>\n",
              "      <td>...</td>\n",
              "      <td>...</td>\n",
              "      <td>...</td>\n",
              "      <td>...</td>\n",
              "      <td>...</td>\n",
              "      <td>...</td>\n",
              "      <td>...</td>\n",
              "      <td>...</td>\n",
              "      <td>...</td>\n",
              "      <td>...</td>\n",
              "      <td>...</td>\n",
              "      <td>...</td>\n",
              "      <td>...</td>\n",
              "      <td>...</td>\n",
              "      <td>...</td>\n",
              "      <td>...</td>\n",
              "      <td>...</td>\n",
              "      <td>...</td>\n",
              "      <td>...</td>\n",
              "      <td>...</td>\n",
              "      <td>...</td>\n",
              "      <td>...</td>\n",
              "    </tr>\n",
              "    <tr>\n",
              "      <th>1048570</th>\n",
              "      <td>New York City</td>\n",
              "      <td>Bronx</td>\n",
              "      <td>1169.0</td>\n",
              "      <td>70 or Older</td>\n",
              "      <td>F</td>\n",
              "      <td>Other Race</td>\n",
              "      <td>Spanish/Hispanic</td>\n",
              "      <td>6</td>\n",
              "      <td>Emergency</td>\n",
              "      <td>Skilled Nursing Home</td>\n",
              "      <td>106</td>\n",
              "      <td>29</td>\n",
              "      <td>Cardiac arrhythmia &amp; conduction disorders</td>\n",
              "      <td>2</td>\n",
              "      <td>3.0</td>\n",
              "      <td>Medical</td>\n",
              "      <td>0</td>\n",
              "      <td>N</td>\n",
              "      <td>Y</td>\n",
              "      <td>69650.41</td>\n",
              "      <td>13896.82</td>\n",
              "      <td>0.199522</td>\n",
              "      <td>1</td>\n",
              "      <td>3</td>\n",
              "    </tr>\n",
              "    <tr>\n",
              "      <th>1048571</th>\n",
              "      <td>New York City</td>\n",
              "      <td>Bronx</td>\n",
              "      <td>1169.0</td>\n",
              "      <td>0 to 17</td>\n",
              "      <td>F</td>\n",
              "      <td>Other Race</td>\n",
              "      <td>Not Span/Hispanic</td>\n",
              "      <td>2</td>\n",
              "      <td>Emergency</td>\n",
              "      <td>Home or Self Care</td>\n",
              "      <td>8</td>\n",
              "      <td>231</td>\n",
              "      <td>Other infectious &amp; parasitic diseases</td>\n",
              "      <td>2</td>\n",
              "      <td>1.0</td>\n",
              "      <td>Medical</td>\n",
              "      <td>0</td>\n",
              "      <td>N</td>\n",
              "      <td>N</td>\n",
              "      <td>13587.38</td>\n",
              "      <td>3918.35</td>\n",
              "      <td>0.288382</td>\n",
              "      <td>1</td>\n",
              "      <td>3</td>\n",
              "    </tr>\n",
              "    <tr>\n",
              "      <th>1048572</th>\n",
              "      <td>New York City</td>\n",
              "      <td>Bronx</td>\n",
              "      <td>1169.0</td>\n",
              "      <td>50 to 69</td>\n",
              "      <td>M</td>\n",
              "      <td>Other Race</td>\n",
              "      <td>Spanish/Hispanic</td>\n",
              "      <td>13</td>\n",
              "      <td>Emergency</td>\n",
              "      <td>Medicare Cert Long Term Care Hospital</td>\n",
              "      <td>151</td>\n",
              "      <td>88</td>\n",
              "      <td>Hepatic coma &amp; other major acute liver disorders</td>\n",
              "      <td>4</td>\n",
              "      <td>4.0</td>\n",
              "      <td>Medical</td>\n",
              "      <td>0</td>\n",
              "      <td>N</td>\n",
              "      <td>Y</td>\n",
              "      <td>104629.78</td>\n",
              "      <td>24746.64</td>\n",
              "      <td>0.236516</td>\n",
              "      <td>0</td>\n",
              "      <td>3</td>\n",
              "    </tr>\n",
              "    <tr>\n",
              "      <th>1048573</th>\n",
              "      <td>New York City</td>\n",
              "      <td>Bronx</td>\n",
              "      <td>1169.0</td>\n",
              "      <td>30 to 49</td>\n",
              "      <td>F</td>\n",
              "      <td>Black/African American</td>\n",
              "      <td>Not Span/Hispanic</td>\n",
              "      <td>2</td>\n",
              "      <td>Emergency</td>\n",
              "      <td>Home or Self Care</td>\n",
              "      <td>143</td>\n",
              "      <td>86</td>\n",
              "      <td>Inguinal, femoral &amp; umbilical hernia procedures</td>\n",
              "      <td>1</td>\n",
              "      <td>1.0</td>\n",
              "      <td>Surgical</td>\n",
              "      <td>0</td>\n",
              "      <td>N</td>\n",
              "      <td>Y</td>\n",
              "      <td>27521.41</td>\n",
              "      <td>6766.04</td>\n",
              "      <td>0.245846</td>\n",
              "      <td>1</td>\n",
              "      <td>3</td>\n",
              "    </tr>\n",
              "    <tr>\n",
              "      <th>1048574</th>\n",
              "      <td>New York City</td>\n",
              "      <td>Bronx</td>\n",
              "      <td>1169.0</td>\n",
              "      <td>50 to 69</td>\n",
              "      <td>M</td>\n",
              "      <td>Other Race</td>\n",
              "      <td>Spanish/Hispanic</td>\n",
              "      <td>2</td>\n",
              "      <td>Emergency</td>\n",
              "      <td>Home or Self Care</td>\n",
              "      <td>106</td>\n",
              "      <td>0</td>\n",
              "      <td>Cardiac arrhythmia &amp; conduction disorders</td>\n",
              "      <td>1</td>\n",
              "      <td>1.0</td>\n",
              "      <td>Medical</td>\n",
              "      <td>0</td>\n",
              "      <td>N</td>\n",
              "      <td>Y</td>\n",
              "      <td>24832.23</td>\n",
              "      <td>4974.66</td>\n",
              "      <td>0.200331</td>\n",
              "      <td>1</td>\n",
              "      <td>2</td>\n",
              "    </tr>\n",
              "  </tbody>\n",
              "</table>\n",
              "<p>1041265 rows × 24 columns</p>\n",
              "</div>"
            ],
            "text/plain": [
              "          Area_Service Hospital_County  ...  Result Payment_Typology\n",
              "0           Western NY        Allegany  ...       1                1\n",
              "1           Western NY        Allegany  ...       1                1\n",
              "2           Western NY        Allegany  ...       1                1\n",
              "3           Western NY        Allegany  ...       0                1\n",
              "4           Western NY        Allegany  ...       1                1\n",
              "...                ...             ...  ...     ...              ...\n",
              "1048570  New York City           Bronx  ...       1                3\n",
              "1048571  New York City           Bronx  ...       1                3\n",
              "1048572  New York City           Bronx  ...       0                3\n",
              "1048573  New York City           Bronx  ...       1                3\n",
              "1048574  New York City           Bronx  ...       1                2\n",
              "\n",
              "[1041265 rows x 24 columns]"
            ]
          },
          "metadata": {
            "tags": []
          },
          "execution_count": 78
        }
      ]
    },
    {
      "cell_type": "code",
      "metadata": {
        "id": "_h4oEAVEkAfv"
      },
      "source": [
        "data.drop(['Hospital_Id', 'apr_drg_description', 'Abortion','Weight_baby'],axis=1,inplace=True)"
      ],
      "execution_count": 79,
      "outputs": []
    },
    {
      "cell_type": "code",
      "metadata": {
        "id": "HbcKNFyDk1os",
        "colab": {
          "base_uri": "https://localhost:8080/",
          "height": 593
        },
        "outputId": "7251481b-a151-46a1-9885-0575d3314ba0"
      },
      "source": [
        "data"
      ],
      "execution_count": 80,
      "outputs": [
        {
          "output_type": "execute_result",
          "data": {
            "text/html": [
              "<div>\n",
              "<style scoped>\n",
              "    .dataframe tbody tr th:only-of-type {\n",
              "        vertical-align: middle;\n",
              "    }\n",
              "\n",
              "    .dataframe tbody tr th {\n",
              "        vertical-align: top;\n",
              "    }\n",
              "\n",
              "    .dataframe thead th {\n",
              "        text-align: right;\n",
              "    }\n",
              "</style>\n",
              "<table border=\"1\" class=\"dataframe\">\n",
              "  <thead>\n",
              "    <tr style=\"text-align: right;\">\n",
              "      <th></th>\n",
              "      <th>Area_Service</th>\n",
              "      <th>Hospital_County</th>\n",
              "      <th>Age</th>\n",
              "      <th>Gender</th>\n",
              "      <th>Cultural_group</th>\n",
              "      <th>ethnicity</th>\n",
              "      <th>Days_spend_hsptl</th>\n",
              "      <th>Admission_type</th>\n",
              "      <th>Home_or_self_care,</th>\n",
              "      <th>ccs_diagnosis_code</th>\n",
              "      <th>ccs_procedure_code</th>\n",
              "      <th>Code_illness</th>\n",
              "      <th>Mortality_risk</th>\n",
              "      <th>Surg_Description</th>\n",
              "      <th>Emergency_dept_yes/No</th>\n",
              "      <th>Tot_charg</th>\n",
              "      <th>Tot_cost</th>\n",
              "      <th>ratio_of_total_costs_to_total_charges</th>\n",
              "      <th>Result</th>\n",
              "      <th>Payment_Typology</th>\n",
              "    </tr>\n",
              "  </thead>\n",
              "  <tbody>\n",
              "    <tr>\n",
              "      <th>0</th>\n",
              "      <td>Western NY</td>\n",
              "      <td>Allegany</td>\n",
              "      <td>30 to 49</td>\n",
              "      <td>F</td>\n",
              "      <td>White</td>\n",
              "      <td>Not Span/Hispanic</td>\n",
              "      <td>4</td>\n",
              "      <td>Elective</td>\n",
              "      <td>Home or Self Care</td>\n",
              "      <td>122</td>\n",
              "      <td>0</td>\n",
              "      <td>1</td>\n",
              "      <td>1.0</td>\n",
              "      <td>Medical</td>\n",
              "      <td>Y</td>\n",
              "      <td>5511.95</td>\n",
              "      <td>5582.49</td>\n",
              "      <td>1.012798</td>\n",
              "      <td>1</td>\n",
              "      <td>1</td>\n",
              "    </tr>\n",
              "    <tr>\n",
              "      <th>1</th>\n",
              "      <td>Western NY</td>\n",
              "      <td>Allegany</td>\n",
              "      <td>70 or Older</td>\n",
              "      <td>F</td>\n",
              "      <td>White</td>\n",
              "      <td>Not Span/Hispanic</td>\n",
              "      <td>4</td>\n",
              "      <td>Urgent</td>\n",
              "      <td>Short-term Hospital</td>\n",
              "      <td>197</td>\n",
              "      <td>0</td>\n",
              "      <td>3</td>\n",
              "      <td>2.0</td>\n",
              "      <td>Medical</td>\n",
              "      <td>Y</td>\n",
              "      <td>4783.20</td>\n",
              "      <td>5162.82</td>\n",
              "      <td>1.079365</td>\n",
              "      <td>1</td>\n",
              "      <td>1</td>\n",
              "    </tr>\n",
              "    <tr>\n",
              "      <th>2</th>\n",
              "      <td>Western NY</td>\n",
              "      <td>Allegany</td>\n",
              "      <td>30 to 49</td>\n",
              "      <td>F</td>\n",
              "      <td>White</td>\n",
              "      <td>Not Span/Hispanic</td>\n",
              "      <td>3</td>\n",
              "      <td>Urgent</td>\n",
              "      <td>Home or Self Care</td>\n",
              "      <td>122</td>\n",
              "      <td>0</td>\n",
              "      <td>1</td>\n",
              "      <td>1.0</td>\n",
              "      <td>Medical</td>\n",
              "      <td>Y</td>\n",
              "      <td>3829.15</td>\n",
              "      <td>4056.52</td>\n",
              "      <td>1.059379</td>\n",
              "      <td>1</td>\n",
              "      <td>1</td>\n",
              "    </tr>\n",
              "    <tr>\n",
              "      <th>3</th>\n",
              "      <td>Western NY</td>\n",
              "      <td>Allegany</td>\n",
              "      <td>0 to 17</td>\n",
              "      <td>F</td>\n",
              "      <td>White</td>\n",
              "      <td>Not Span/Hispanic</td>\n",
              "      <td>1</td>\n",
              "      <td>Urgent</td>\n",
              "      <td>Home or Self Care</td>\n",
              "      <td>122</td>\n",
              "      <td>0</td>\n",
              "      <td>1</td>\n",
              "      <td>1.0</td>\n",
              "      <td>Medical</td>\n",
              "      <td>Y</td>\n",
              "      <td>1108.20</td>\n",
              "      <td>1644.75</td>\n",
              "      <td>1.484167</td>\n",
              "      <td>0</td>\n",
              "      <td>1</td>\n",
              "    </tr>\n",
              "    <tr>\n",
              "      <th>4</th>\n",
              "      <td>Western NY</td>\n",
              "      <td>Allegany</td>\n",
              "      <td>70 or Older</td>\n",
              "      <td>F</td>\n",
              "      <td>White</td>\n",
              "      <td>Not Span/Hispanic</td>\n",
              "      <td>3</td>\n",
              "      <td>Elective</td>\n",
              "      <td>Home or Self Care</td>\n",
              "      <td>122</td>\n",
              "      <td>0</td>\n",
              "      <td>2</td>\n",
              "      <td>3.0</td>\n",
              "      <td>Medical</td>\n",
              "      <td>Y</td>\n",
              "      <td>3418.18</td>\n",
              "      <td>3370.87</td>\n",
              "      <td>0.986161</td>\n",
              "      <td>1</td>\n",
              "      <td>1</td>\n",
              "    </tr>\n",
              "    <tr>\n",
              "      <th>...</th>\n",
              "      <td>...</td>\n",
              "      <td>...</td>\n",
              "      <td>...</td>\n",
              "      <td>...</td>\n",
              "      <td>...</td>\n",
              "      <td>...</td>\n",
              "      <td>...</td>\n",
              "      <td>...</td>\n",
              "      <td>...</td>\n",
              "      <td>...</td>\n",
              "      <td>...</td>\n",
              "      <td>...</td>\n",
              "      <td>...</td>\n",
              "      <td>...</td>\n",
              "      <td>...</td>\n",
              "      <td>...</td>\n",
              "      <td>...</td>\n",
              "      <td>...</td>\n",
              "      <td>...</td>\n",
              "      <td>...</td>\n",
              "    </tr>\n",
              "    <tr>\n",
              "      <th>1048570</th>\n",
              "      <td>New York City</td>\n",
              "      <td>Bronx</td>\n",
              "      <td>70 or Older</td>\n",
              "      <td>F</td>\n",
              "      <td>Other Race</td>\n",
              "      <td>Spanish/Hispanic</td>\n",
              "      <td>6</td>\n",
              "      <td>Emergency</td>\n",
              "      <td>Skilled Nursing Home</td>\n",
              "      <td>106</td>\n",
              "      <td>29</td>\n",
              "      <td>2</td>\n",
              "      <td>3.0</td>\n",
              "      <td>Medical</td>\n",
              "      <td>Y</td>\n",
              "      <td>69650.41</td>\n",
              "      <td>13896.82</td>\n",
              "      <td>0.199522</td>\n",
              "      <td>1</td>\n",
              "      <td>3</td>\n",
              "    </tr>\n",
              "    <tr>\n",
              "      <th>1048571</th>\n",
              "      <td>New York City</td>\n",
              "      <td>Bronx</td>\n",
              "      <td>0 to 17</td>\n",
              "      <td>F</td>\n",
              "      <td>Other Race</td>\n",
              "      <td>Not Span/Hispanic</td>\n",
              "      <td>2</td>\n",
              "      <td>Emergency</td>\n",
              "      <td>Home or Self Care</td>\n",
              "      <td>8</td>\n",
              "      <td>231</td>\n",
              "      <td>2</td>\n",
              "      <td>1.0</td>\n",
              "      <td>Medical</td>\n",
              "      <td>N</td>\n",
              "      <td>13587.38</td>\n",
              "      <td>3918.35</td>\n",
              "      <td>0.288382</td>\n",
              "      <td>1</td>\n",
              "      <td>3</td>\n",
              "    </tr>\n",
              "    <tr>\n",
              "      <th>1048572</th>\n",
              "      <td>New York City</td>\n",
              "      <td>Bronx</td>\n",
              "      <td>50 to 69</td>\n",
              "      <td>M</td>\n",
              "      <td>Other Race</td>\n",
              "      <td>Spanish/Hispanic</td>\n",
              "      <td>13</td>\n",
              "      <td>Emergency</td>\n",
              "      <td>Medicare Cert Long Term Care Hospital</td>\n",
              "      <td>151</td>\n",
              "      <td>88</td>\n",
              "      <td>4</td>\n",
              "      <td>4.0</td>\n",
              "      <td>Medical</td>\n",
              "      <td>Y</td>\n",
              "      <td>104629.78</td>\n",
              "      <td>24746.64</td>\n",
              "      <td>0.236516</td>\n",
              "      <td>0</td>\n",
              "      <td>3</td>\n",
              "    </tr>\n",
              "    <tr>\n",
              "      <th>1048573</th>\n",
              "      <td>New York City</td>\n",
              "      <td>Bronx</td>\n",
              "      <td>30 to 49</td>\n",
              "      <td>F</td>\n",
              "      <td>Black/African American</td>\n",
              "      <td>Not Span/Hispanic</td>\n",
              "      <td>2</td>\n",
              "      <td>Emergency</td>\n",
              "      <td>Home or Self Care</td>\n",
              "      <td>143</td>\n",
              "      <td>86</td>\n",
              "      <td>1</td>\n",
              "      <td>1.0</td>\n",
              "      <td>Surgical</td>\n",
              "      <td>Y</td>\n",
              "      <td>27521.41</td>\n",
              "      <td>6766.04</td>\n",
              "      <td>0.245846</td>\n",
              "      <td>1</td>\n",
              "      <td>3</td>\n",
              "    </tr>\n",
              "    <tr>\n",
              "      <th>1048574</th>\n",
              "      <td>New York City</td>\n",
              "      <td>Bronx</td>\n",
              "      <td>50 to 69</td>\n",
              "      <td>M</td>\n",
              "      <td>Other Race</td>\n",
              "      <td>Spanish/Hispanic</td>\n",
              "      <td>2</td>\n",
              "      <td>Emergency</td>\n",
              "      <td>Home or Self Care</td>\n",
              "      <td>106</td>\n",
              "      <td>0</td>\n",
              "      <td>1</td>\n",
              "      <td>1.0</td>\n",
              "      <td>Medical</td>\n",
              "      <td>Y</td>\n",
              "      <td>24832.23</td>\n",
              "      <td>4974.66</td>\n",
              "      <td>0.200331</td>\n",
              "      <td>1</td>\n",
              "      <td>2</td>\n",
              "    </tr>\n",
              "  </tbody>\n",
              "</table>\n",
              "<p>1041265 rows × 20 columns</p>\n",
              "</div>"
            ],
            "text/plain": [
              "          Area_Service Hospital_County  ... Result Payment_Typology\n",
              "0           Western NY        Allegany  ...      1                1\n",
              "1           Western NY        Allegany  ...      1                1\n",
              "2           Western NY        Allegany  ...      1                1\n",
              "3           Western NY        Allegany  ...      0                1\n",
              "4           Western NY        Allegany  ...      1                1\n",
              "...                ...             ...  ...    ...              ...\n",
              "1048570  New York City           Bronx  ...      1                3\n",
              "1048571  New York City           Bronx  ...      1                3\n",
              "1048572  New York City           Bronx  ...      0                3\n",
              "1048573  New York City           Bronx  ...      1                3\n",
              "1048574  New York City           Bronx  ...      1                2\n",
              "\n",
              "[1041265 rows x 20 columns]"
            ]
          },
          "metadata": {
            "tags": []
          },
          "execution_count": 80
        }
      ]
    },
    {
      "cell_type": "code",
      "metadata": {
        "id": "gX50l1iH70DA",
        "outputId": "d52f6e46-191e-4ad9-e842-8999ffc4b7fd",
        "colab": {
          "base_uri": "https://localhost:8080/"
        }
      },
      "source": [
        "data.Gender.unique()"
      ],
      "execution_count": 81,
      "outputs": [
        {
          "output_type": "execute_result",
          "data": {
            "text/plain": [
              "array(['F', 'M', 'U'], dtype=object)"
            ]
          },
          "metadata": {
            "tags": []
          },
          "execution_count": 81
        }
      ]
    },
    {
      "cell_type": "code",
      "metadata": {
        "id": "XipHSOir6hsx"
      },
      "source": [
        "data.rename({\"Home_or_self_care,\":\"homeorselfcare\",\"Emergency_dept_yes/No\":\"emergencydeptyesno\"},axis=1,inplace=True)\r\n",
        "\r\n"
      ],
      "execution_count": 114,
      "outputs": []
    },
    {
      "cell_type": "code",
      "metadata": {
        "id": "NcfKMHb3-NTd"
      },
      "source": [
        "data.replace({'Days_spend_hsptl': '120 +'}, 120, inplace=True)"
      ],
      "execution_count": 83,
      "outputs": []
    },
    {
      "cell_type": "code",
      "metadata": {
        "id": "MIUwfZ0Mk7Ex"
      },
      "source": [
        "from sklearn import preprocessing\r\n",
        "label=preprocessing.LabelEncoder()\r\n",
        "label_area = label.fit(data.Area_Service)\r\n",
        "label_Hospital_County = label.fit(data.Hospital_County)\r\n",
        "label_Age = label.fit(data.Age)\r\n",
        "label_Cultural_group = label.fit(data.Cultural_group)\r\n",
        "label_ethnicity= label.fit(data.ethnicity)\r\n",
        "label_Admission_type = label.fit(data.Admission_type)\r\n",
        "\r\n"
      ],
      "execution_count": 85,
      "outputs": []
    },
    {
      "cell_type": "code",
      "metadata": {
        "id": "zfcdUZqq_HG9",
        "outputId": "09bf4a51-cb32-416f-9673-ad3eec50c0fc",
        "colab": {
          "base_uri": "https://localhost:8080/",
          "height": 131
        }
      },
      "source": [
        "data.head(1)"
      ],
      "execution_count": 115,
      "outputs": [
        {
          "output_type": "execute_result",
          "data": {
            "text/html": [
              "<div>\n",
              "<style scoped>\n",
              "    .dataframe tbody tr th:only-of-type {\n",
              "        vertical-align: middle;\n",
              "    }\n",
              "\n",
              "    .dataframe tbody tr th {\n",
              "        vertical-align: top;\n",
              "    }\n",
              "\n",
              "    .dataframe thead th {\n",
              "        text-align: right;\n",
              "    }\n",
              "</style>\n",
              "<table border=\"1\" class=\"dataframe\">\n",
              "  <thead>\n",
              "    <tr style=\"text-align: right;\">\n",
              "      <th></th>\n",
              "      <th>Area_Service</th>\n",
              "      <th>Hospital_County</th>\n",
              "      <th>Age</th>\n",
              "      <th>Gender</th>\n",
              "      <th>Cultural_group</th>\n",
              "      <th>ethnicity</th>\n",
              "      <th>Days_spend_hsptl</th>\n",
              "      <th>Admission_type</th>\n",
              "      <th>homeorselfcare</th>\n",
              "      <th>ccs_diagnosis_code</th>\n",
              "      <th>ccs_procedure_code</th>\n",
              "      <th>Code_illness</th>\n",
              "      <th>Mortality_risk</th>\n",
              "      <th>Surg_Description</th>\n",
              "      <th>emergencydeptyesno</th>\n",
              "      <th>Tot_charg</th>\n",
              "      <th>Tot_cost</th>\n",
              "      <th>ratio_of_total_costs_to_total_charges</th>\n",
              "      <th>Result</th>\n",
              "      <th>Payment_Typology</th>\n",
              "    </tr>\n",
              "  </thead>\n",
              "  <tbody>\n",
              "    <tr>\n",
              "      <th>0</th>\n",
              "      <td>Western NY</td>\n",
              "      <td>Allegany</td>\n",
              "      <td>30 to 49</td>\n",
              "      <td>F</td>\n",
              "      <td>White</td>\n",
              "      <td>Not Span/Hispanic</td>\n",
              "      <td>4</td>\n",
              "      <td>Elective</td>\n",
              "      <td>Home or Self Care</td>\n",
              "      <td>122</td>\n",
              "      <td>0</td>\n",
              "      <td>1</td>\n",
              "      <td>1.0</td>\n",
              "      <td>Medical</td>\n",
              "      <td>Y</td>\n",
              "      <td>5511.95</td>\n",
              "      <td>5582.49</td>\n",
              "      <td>1.012798</td>\n",
              "      <td>1</td>\n",
              "      <td>1</td>\n",
              "    </tr>\n",
              "  </tbody>\n",
              "</table>\n",
              "</div>"
            ],
            "text/plain": [
              "  Area_Service Hospital_County  ... Result Payment_Typology\n",
              "0   Western NY        Allegany  ...      1                1\n",
              "\n",
              "[1 rows x 20 columns]"
            ]
          },
          "metadata": {
            "tags": []
          },
          "execution_count": 115
        }
      ]
    },
    {
      "cell_type": "code",
      "metadata": {
        "id": "Qkg3h7l0-xH7"
      },
      "source": [
        "label_Home_or_self_care = label.fit(data.homeorselfcare)"
      ],
      "execution_count": 104,
      "outputs": []
    },
    {
      "cell_type": "code",
      "metadata": {
        "id": "ByMvnIqH-r_c"
      },
      "source": [
        "data.replace({'Days_spend_hsptl': '120 +'}, 120, inplace=True)"
      ],
      "execution_count": 105,
      "outputs": []
    },
    {
      "cell_type": "code",
      "metadata": {
        "id": "DO3uXgGZmh03"
      },
      "source": [
        "\r\n",
        "label_binizer = preprocessing.LabelBinarizer()\r\n",
        "one_hot_Gender = label_binizer.fit(data.Gender)\r\n",
        "one_hot_Surg_Description = label_binizer.fit(data.Surg_Description)\r\n"
      ],
      "execution_count": 109,
      "outputs": []
    },
    {
      "cell_type": "code",
      "metadata": {
        "id": "b492MwEiAtNw"
      },
      "source": [
        "one_hot_Emergency_dept_yes_No = label_binizer.fit(data.emergencydeptyesno)"
      ],
      "execution_count": 116,
      "outputs": []
    },
    {
      "cell_type": "code",
      "metadata": {
        "id": "ha5vWYQDn_ss"
      },
      "source": [
        "label_encoder_list = [label_area, label_Hospital_County,\r\n",
        "                label_Age, label_Cultural_group,\r\n",
        "                label_ethnicity, label_Admission_type,\r\n",
        "                label_Home_or_self_care]"
      ],
      "execution_count": 117,
      "outputs": []
    },
    {
      "cell_type": "code",
      "metadata": {
        "id": "SDIZIhp-owK8"
      },
      "source": [
        "one_hot_coder_list = [one_hot_Gender, one_hot_Surg_Description, one_hot_Emergency_dept_yes_No]"
      ],
      "execution_count": 118,
      "outputs": []
    },
    {
      "cell_type": "code",
      "metadata": {
        "id": "vcDnfLwso32u"
      },
      "source": [
        "from joblib import dump, load"
      ],
      "execution_count": 119,
      "outputs": []
    },
    {
      "cell_type": "code",
      "metadata": {
        "id": "Iquh0nmUqR6W",
        "colab": {
          "base_uri": "https://localhost:8080/"
        },
        "outputId": "b1aa9256-6c17-460a-8381-145214efac85"
      },
      "source": [
        "dump(label_encoder_list, 'label_encoder_list.joblib')"
      ],
      "execution_count": 120,
      "outputs": [
        {
          "output_type": "execute_result",
          "data": {
            "text/plain": [
              "['label_encoder_list.joblib']"
            ]
          },
          "metadata": {
            "tags": []
          },
          "execution_count": 120
        }
      ]
    },
    {
      "cell_type": "code",
      "metadata": {
        "id": "Ii35rDj2qUhS",
        "colab": {
          "base_uri": "https://localhost:8080/"
        },
        "outputId": "24622f6d-550a-4458-83e8-d0931e550207"
      },
      "source": [
        "dump(one_hot_coder_list, 'one_hot_coder_list.joblib')"
      ],
      "execution_count": 121,
      "outputs": [
        {
          "output_type": "execute_result",
          "data": {
            "text/plain": [
              "['one_hot_coder_list.joblib']"
            ]
          },
          "metadata": {
            "tags": []
          },
          "execution_count": 121
        }
      ]
    },
    {
      "cell_type": "code",
      "metadata": {
        "id": "5PTckIYFqXwy"
      },
      "source": [
        "label_to_column = ['Area_Service', 'Hospital_County',\r\n",
        "                  'Age', 'Cultural_group', 'ethnicity',\r\n",
        "                  'Admission_type', 'homeorselfcare']\r\n",
        "one_hot_column = ['Gender', 'Surg_Description', 'emergencydeptyesno']"
      ],
      "execution_count": 132,
      "outputs": []
    },
    {
      "cell_type": "code",
      "metadata": {
        "id": "GVaT88dMqaHq",
        "colab": {
          "base_uri": "https://localhost:8080/"
        },
        "outputId": "19a11cb2-98a8-41df-bf32-f77b96fba698"
      },
      "source": [
        "from sklearn.externals import joblib\r\n",
        "from joblib import dump\r\n",
        "dump(label_to_column, 'label_to_column.joblib')"
      ],
      "execution_count": 123,
      "outputs": [
        {
          "output_type": "execute_result",
          "data": {
            "text/plain": [
              "['label_to_column.joblib']"
            ]
          },
          "metadata": {
            "tags": []
          },
          "execution_count": 123
        }
      ]
    },
    {
      "cell_type": "code",
      "metadata": {
        "id": "FwVIQVkCqjsF",
        "colab": {
          "base_uri": "https://localhost:8080/"
        },
        "outputId": "53d5301a-e4cb-4c01-95ba-6553661f2a63"
      },
      "source": [
        "dump(one_hot_column, 'one_hot_column.joblib')"
      ],
      "execution_count": 124,
      "outputs": [
        {
          "output_type": "execute_result",
          "data": {
            "text/plain": [
              "['one_hot_column.joblib']"
            ]
          },
          "metadata": {
            "tags": []
          },
          "execution_count": 124
        }
      ]
    },
    {
      "cell_type": "code",
      "metadata": {
        "id": "AcqVYhs-qoN6"
      },
      "source": [
        "j = 0\r\n",
        "for i in label_to_column:\r\n",
        "    data[i] = label_encoder_list[j].fit_transform(data[i])\r\n",
        "    j =+1"
      ],
      "execution_count": 130,
      "outputs": []
    },
    {
      "cell_type": "code",
      "metadata": {
        "id": "pO1kk7P7qrUr"
      },
      "source": [
        "k = 0\r\n",
        "for i in one_hot_column:\r\n",
        "    data[i] = one_hot_coder_list[k].fit_transform(data[i])\r\n",
        "    k =+1"
      ],
      "execution_count": 133,
      "outputs": []
    },
    {
      "cell_type": "code",
      "metadata": {
        "id": "3m1bhDeQq2LX",
        "colab": {
          "base_uri": "https://localhost:8080/",
          "height": 161
        },
        "outputId": "80a03f99-8894-4de0-da4e-c4725433c7e0"
      },
      "source": [
        "data.head(2)"
      ],
      "execution_count": null,
      "outputs": [
        {
          "output_type": "execute_result",
          "data": {
            "text/html": [
              "<div>\n",
              "<style scoped>\n",
              "    .dataframe tbody tr th:only-of-type {\n",
              "        vertical-align: middle;\n",
              "    }\n",
              "\n",
              "    .dataframe tbody tr th {\n",
              "        vertical-align: top;\n",
              "    }\n",
              "\n",
              "    .dataframe thead th {\n",
              "        text-align: right;\n",
              "    }\n",
              "</style>\n",
              "<table border=\"1\" class=\"dataframe\">\n",
              "  <thead>\n",
              "    <tr style=\"text-align: right;\">\n",
              "      <th></th>\n",
              "      <th>Area_Service</th>\n",
              "      <th>Hospital_County</th>\n",
              "      <th>Age</th>\n",
              "      <th>Gender</th>\n",
              "      <th>Cultural_group</th>\n",
              "      <th>ethnicity</th>\n",
              "      <th>Days_spend_hsptl</th>\n",
              "      <th>Admission_type</th>\n",
              "      <th>Home_or_self_care,</th>\n",
              "      <th>ccs_diagnosis_code</th>\n",
              "      <th>ccs_procedure_code</th>\n",
              "      <th>Code_illness</th>\n",
              "      <th>Mortality_risk</th>\n",
              "      <th>Surg_Description</th>\n",
              "      <th>Emergency_dept_yes/No</th>\n",
              "      <th>Tot_charg</th>\n",
              "      <th>Tot_cost</th>\n",
              "      <th>ratio_of_total_costs_to_total_charges</th>\n",
              "      <th>Result</th>\n",
              "      <th>Payment_Typology</th>\n",
              "    </tr>\n",
              "  </thead>\n",
              "  <tbody>\n",
              "    <tr>\n",
              "      <th>0</th>\n",
              "      <td>Western NY</td>\n",
              "      <td>Allegany</td>\n",
              "      <td>30 to 49</td>\n",
              "      <td>F</td>\n",
              "      <td>White</td>\n",
              "      <td>Not Span/Hispanic</td>\n",
              "      <td>4</td>\n",
              "      <td>Elective</td>\n",
              "      <td>Home or Self Care</td>\n",
              "      <td>122</td>\n",
              "      <td>0</td>\n",
              "      <td>1</td>\n",
              "      <td>1.0</td>\n",
              "      <td>Medical</td>\n",
              "      <td>Y</td>\n",
              "      <td>5511.95</td>\n",
              "      <td>5582.49</td>\n",
              "      <td>1.012798</td>\n",
              "      <td>1</td>\n",
              "      <td>1</td>\n",
              "    </tr>\n",
              "    <tr>\n",
              "      <th>1</th>\n",
              "      <td>Western NY</td>\n",
              "      <td>Allegany</td>\n",
              "      <td>70 or Older</td>\n",
              "      <td>F</td>\n",
              "      <td>White</td>\n",
              "      <td>Not Span/Hispanic</td>\n",
              "      <td>4</td>\n",
              "      <td>Urgent</td>\n",
              "      <td>Short-term Hospital</td>\n",
              "      <td>197</td>\n",
              "      <td>0</td>\n",
              "      <td>3</td>\n",
              "      <td>2.0</td>\n",
              "      <td>Medical</td>\n",
              "      <td>Y</td>\n",
              "      <td>4783.20</td>\n",
              "      <td>5162.82</td>\n",
              "      <td>1.079365</td>\n",
              "      <td>1</td>\n",
              "      <td>1</td>\n",
              "    </tr>\n",
              "  </tbody>\n",
              "</table>\n",
              "</div>"
            ],
            "text/plain": [
              "  Area_Service Hospital_County  ... Result Payment_Typology\n",
              "0   Western NY        Allegany  ...      1                1\n",
              "1   Western NY        Allegany  ...      1                1\n",
              "\n",
              "[2 rows x 20 columns]"
            ]
          },
          "metadata": {
            "tags": []
          },
          "execution_count": 41
        }
      ]
    },
    {
      "cell_type": "code",
      "metadata": {
        "id": "ZRTU4UZ54bz4"
      },
      "source": [
        ""
      ],
      "execution_count": null,
      "outputs": []
    },
    {
      "cell_type": "code",
      "metadata": {
        "id": "Q10q5RUYq5lD"
      },
      "source": [
        "data_minority = data.loc[data['Result']==0]\r\n",
        "data_majority = data.loc[data['Result']==1]"
      ],
      "execution_count": 134,
      "outputs": []
    },
    {
      "cell_type": "code",
      "metadata": {
        "id": "JpDcQSkyrEiU"
      },
      "source": [
        "from sklearn.utils import resample\r\n",
        "data_minority_upsampled = resample(data_minority, replace=True, n_samples=760268, random_state=42)"
      ],
      "execution_count": 135,
      "outputs": []
    },
    {
      "cell_type": "code",
      "metadata": {
        "id": "sUZsMwhZrHQ8"
      },
      "source": [
        "data_upsampled = pd.concat([data_majority, data_minority_upsampled ], ignore_index=True)"
      ],
      "execution_count": 136,
      "outputs": []
    },
    {
      "cell_type": "code",
      "metadata": {
        "id": "nh3fdYyyrLpb"
      },
      "source": [
        "X = data_upsampled.drop(['Result'],axis=1).values\r\n",
        "Y = data_upsampled.Result.values"
      ],
      "execution_count": 137,
      "outputs": []
    },
    {
      "cell_type": "code",
      "metadata": {
        "id": "_VxORY4nrPHS"
      },
      "source": [
        "from sklearn.model_selection import train_test_split\r\n",
        "\r\n",
        "X_train, X_test, Y_train, Y_test = train_test_split(X, Y, stratify=Y, test_size=0.3, random_state=42)"
      ],
      "execution_count": 138,
      "outputs": []
    },
    {
      "cell_type": "code",
      "metadata": {
        "id": "-3s-ClcLrSFL"
      },
      "source": [
        "from sklearn.ensemble import RandomForestClassifier\r\n",
        "model_RF_upsampled = RandomForestClassifier(n_estimators=10, random_state=42)"
      ],
      "execution_count": 139,
      "outputs": []
    },
    {
      "cell_type": "code",
      "metadata": {
        "id": "-vreAi7trVAV",
        "colab": {
          "base_uri": "https://localhost:8080/"
        },
        "outputId": "534ee981-ef6c-4fd9-ffa3-e86b2e590bf4"
      },
      "source": [
        "model_RF_upsampled.fit(X_train, Y_train)"
      ],
      "execution_count": 140,
      "outputs": [
        {
          "output_type": "execute_result",
          "data": {
            "text/plain": [
              "RandomForestClassifier(bootstrap=True, ccp_alpha=0.0, class_weight=None,\n",
              "                       criterion='gini', max_depth=None, max_features='auto',\n",
              "                       max_leaf_nodes=None, max_samples=None,\n",
              "                       min_impurity_decrease=0.0, min_impurity_split=None,\n",
              "                       min_samples_leaf=1, min_samples_split=2,\n",
              "                       min_weight_fraction_leaf=0.0, n_estimators=10,\n",
              "                       n_jobs=None, oob_score=False, random_state=42, verbose=0,\n",
              "                       warm_start=False)"
            ]
          },
          "metadata": {
            "tags": []
          },
          "execution_count": 140
        }
      ]
    },
    {
      "cell_type": "code",
      "metadata": {
        "id": "Gr5dzhf7rYxP"
      },
      "source": [
        "from sklearn.metrics import classification_report, confusion_matrix\r\n",
        "Y_pred = model_RF_upsampled.predict(X_train)"
      ],
      "execution_count": 141,
      "outputs": []
    },
    {
      "cell_type": "code",
      "metadata": {
        "id": "o37tsaxsrcMd",
        "colab": {
          "base_uri": "https://localhost:8080/"
        },
        "outputId": "ade41f94-31ed-422c-c675-a6b495be2c40"
      },
      "source": [
        "print(classification_report(Y_train, Y_pred))"
      ],
      "execution_count": 142,
      "outputs": [
        {
          "output_type": "stream",
          "text": [
            "              precision    recall  f1-score   support\n",
            "\n",
            "           0       0.98      0.99      0.99    532187\n",
            "           1       0.99      0.98      0.99    546253\n",
            "\n",
            "    accuracy                           0.99   1078440\n",
            "   macro avg       0.99      0.99      0.99   1078440\n",
            "weighted avg       0.99      0.99      0.99   1078440\n",
            "\n"
          ],
          "name": "stdout"
        }
      ]
    },
    {
      "cell_type": "code",
      "metadata": {
        "id": "MjeVZjCdrfgf",
        "colab": {
          "base_uri": "https://localhost:8080/"
        },
        "outputId": "199c86c5-c16a-4094-d804-1439919c4784"
      },
      "source": [
        "Y_pred_test = model_RF_upsampled.predict(X_test)\r\n",
        "\r\n",
        "print(classification_report(Y_test, Y_pred_test))"
      ],
      "execution_count": 143,
      "outputs": [
        {
          "output_type": "stream",
          "text": [
            "              precision    recall  f1-score   support\n",
            "\n",
            "           0       0.75      0.90      0.82    228081\n",
            "           1       0.88      0.71      0.78    234108\n",
            "\n",
            "    accuracy                           0.80    462189\n",
            "   macro avg       0.81      0.80      0.80    462189\n",
            "weighted avg       0.81      0.80      0.80    462189\n",
            "\n"
          ],
          "name": "stdout"
        }
      ]
    },
    {
      "cell_type": "code",
      "metadata": {
        "id": "2MQBbAHUrjZQ",
        "colab": {
          "base_uri": "https://localhost:8080/"
        },
        "outputId": "96e51950-032a-4a07-854d-d45b56405aeb"
      },
      "source": [
        "print(confusion_matrix(Y_test, Y_pred_test))"
      ],
      "execution_count": 144,
      "outputs": [
        {
          "output_type": "stream",
          "text": [
            "[[204685  23396]\n",
            " [ 68138 165970]]\n"
          ],
          "name": "stdout"
        }
      ]
    },
    {
      "cell_type": "code",
      "metadata": {
        "id": "VfVT2ik5rmgR",
        "colab": {
          "base_uri": "https://localhost:8080/"
        },
        "outputId": "92c458d6-a6e0-47cf-aa41-7bf8ea00584d"
      },
      "source": [
        "Y_pred_whole = model_RF_upsampled.predict(data.drop(['Result'],axis=1))\r\n",
        "\r\n",
        "print(classification_report(data.Result.values, Y_pred_whole))"
      ],
      "execution_count": 147,
      "outputs": [
        {
          "output_type": "stream",
          "text": [
            "              precision    recall  f1-score   support\n",
            "\n",
            "           0       0.75      0.90      0.82    260904\n",
            "           1       0.96      0.90      0.93    780361\n",
            "\n",
            "    accuracy                           0.90   1041265\n",
            "   macro avg       0.86      0.90      0.88   1041265\n",
            "weighted avg       0.91      0.90      0.90   1041265\n",
            "\n"
          ],
          "name": "stdout"
        }
      ]
    },
    {
      "cell_type": "code",
      "metadata": {
        "id": "vFvCOhqxrpzY",
        "colab": {
          "base_uri": "https://localhost:8080/"
        },
        "outputId": "ee74ef2a-f4c8-46ab-a980-7f1848e0340f"
      },
      "source": [
        "print(confusion_matrix(data.Result.values, Y_pred_whole))"
      ],
      "execution_count": 148,
      "outputs": [
        {
          "output_type": "stream",
          "text": [
            "[[234320  26584]\n",
            " [ 76909 703452]]\n"
          ],
          "name": "stdout"
        }
      ]
    },
    {
      "cell_type": "code",
      "metadata": {
        "id": "hLs9EZxprtVx"
      },
      "source": [
        "from sklearn.model_selection import StratifiedKFold \r\n",
        "# Create StratifiedKFold object. \r\n",
        "skf = StratifiedKFold(n_splits=10, shuffle=True, random_state=1) \r\n",
        "lst_accu_stratified = [] \r\n",
        "   \r\n",
        "for train_index, test_index in skf.split(X, Y): \r\n",
        "    x_train_fold, x_test_fold = X[train_index], X[test_index] \r\n",
        "    y_train_fold, y_test_fold = Y[train_index], Y[test_index] \r\n",
        "    model_RF_upsampled.fit(x_train_fold, y_train_fold) \r\n",
        "    lst_accu_stratified.append(model_RF_upsampled.score(x_test_fold, y_test_fold)) \r\n",
        "   \r\n",
        "# Print the output. \r\n",
        "print('List of possible accuracy:', lst_accu_stratified) \r\n",
        "print('\\nMaximum Accuracy That can be obtained from this model is:', \r\n",
        "      max(lst_accu_stratified)*100, '%') \r\n",
        "print('\\nMinimum Accuracy:', \r\n",
        "      min(lst_accu_stratified)*100, '%') \r\n",
        "print('\\nOverall Accuracy:', \r\n",
        "      np.mean(lst_accu_stratified)*100, '%') \r\n",
        "print('\\nStandard Deviation is:', np.std(lst_accu_stratified))"
      ],
      "execution_count": null,
      "outputs": []
    },
    {
      "cell_type": "code",
      "metadata": {
        "id": "ENqZK7f8rxZ7",
        "colab": {
          "base_uri": "https://localhost:8080/"
        },
        "outputId": "0dd115e8-c0f2-422d-afd6-fd3434c23c98"
      },
      "source": [
        "from joblib import dump, load\r\n",
        "dump(model_RF_upsampled, 'model_RF_upsampled.joblib') "
      ],
      "execution_count": null,
      "outputs": [
        {
          "output_type": "execute_result",
          "data": {
            "text/plain": [
              "['model_RF_upsampled.joblib']"
            ]
          },
          "metadata": {
            "tags": []
          },
          "execution_count": 56
        }
      ]
    },
    {
      "cell_type": "code",
      "metadata": {
        "id": "TmzGf0UNr0dc"
      },
      "source": [
        ""
      ],
      "execution_count": null,
      "outputs": []
    }
  ]
}